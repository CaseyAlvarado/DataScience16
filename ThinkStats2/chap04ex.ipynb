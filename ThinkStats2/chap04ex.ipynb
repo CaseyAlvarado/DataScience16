{
 "cells": [
  {
   "cell_type": "markdown",
   "metadata": {},
   "source": [
    "Exercise from Think Stats, 2nd Edition (thinkstats2.com)<br>\n",
    "Allen Downey\n",
    "\n",
    "Read the pregnancy file."
   ]
  },
  {
   "cell_type": "code",
   "execution_count": 4,
   "metadata": {
    "collapsed": false
   },
   "outputs": [],
   "source": [
    "import thinkstats2\n",
    "import thinkplot\n",
    "import numpy\n",
    "%matplotlib inline\n",
    "\n",
    "import nsfg\n",
    "preg = nsfg.ReadFemPreg()"
   ]
  },
  {
   "cell_type": "markdown",
   "metadata": {},
   "source": [
    "Select live births, then make a CDF of <tt>totalwgt_lb</tt>. "
   ]
  },
  {
   "cell_type": "code",
   "execution_count": 47,
   "metadata": {
    "collapsed": false
   },
   "outputs": [
    {
     "name": "stdout",
     "output_type": "stream",
     "text": [
      "CDF of totalwgt_lb Cdf([  0.125    0.3125   0.4375   0.5625   0.625    0.9375   1.       1.0625\n",
      "   1.125    1.1875   1.25     1.3125   1.375    1.4375   1.5      1.5625\n",
      "   1.625    1.6875   1.75     1.8125   1.875    2.       2.0625   2.125\n",
      "   2.1875   2.25     2.3125   2.375    2.4375   2.5      2.5625   2.6875\n",
      "   2.75     2.8125   2.875    2.9375   3.       3.0625   3.125    3.25\n",
      "   3.3125   3.375    3.4375   3.5      3.5625   3.625    3.6875   3.75\n",
      "   3.8125   3.875    3.9375   4.       4.0625   4.125    4.1875   4.25\n",
      "   4.3125   4.375    4.4375   4.5      4.5625   4.625    4.6875   4.75\n",
      "   4.8125   4.875    4.9375   5.       5.0625   5.125    5.1875   5.25\n",
      "   5.3125   5.375    5.4375   5.5      5.5625   5.625    5.6875   5.75\n",
      "   5.8125   5.875    5.9375   6.       6.0625   6.125    6.1875   6.25\n",
      "   6.3125   6.375    6.4375   6.5      6.5625   6.625    6.6875   6.75\n",
      "   6.8125   6.875    6.9375   7.       7.0625   7.125    7.1875   7.25\n",
      "   7.3125   7.375    7.4375   7.5      7.5625   7.625    7.6875   7.75\n",
      "   7.8125   7.875    7.9375   8.       8.0625   8.125    8.1875   8.25\n",
      "   8.3125   8.375    8.4375   8.5      8.5625   8.625    8.6875   8.75\n",
      "   8.8125   8.875    8.9375   9.       9.0625   9.125    9.1875   9.25\n",
      "   9.3125   9.375    9.4375   9.5      9.5625   9.625    9.6875   9.75\n",
      "   9.8125   9.875    9.9375  10.      10.0625  10.125   10.1875  10.25\n",
      "  10.3125  10.375   10.4375  10.5     10.5625  10.625   10.6875  10.75\n",
      "  10.8125  10.875   10.9375  11.      11.0625  11.125   11.1875  11.375\n",
      "  11.4375  11.5     11.5625  11.625   11.6875  11.75    11.9375  12.\n",
      "  12.1875  12.375   12.5     13.      13.5     13.75    14.      15.4375], [  1.10643948e-04   2.21287896e-04   3.31931843e-04   4.42575791e-04\n",
      "   6.63863687e-04   7.74507634e-04   8.85151582e-04   1.21708343e-03\n",
      "   1.43837132e-03   1.54901527e-03   1.77030316e-03   2.10223501e-03\n",
      "   2.76609869e-03   2.87674264e-03   3.31931843e-03   3.65125028e-03\n",
      "   4.20447002e-03   4.31511396e-03   4.75768975e-03   4.86833370e-03\n",
      "   5.20026555e-03   5.64284134e-03   6.08541713e-03   6.41734897e-03\n",
      "   7.19185661e-03   7.63443240e-03   8.07700819e-03   8.40894003e-03\n",
      "   8.74087187e-03   9.29409161e-03   9.51537951e-03   9.95795530e-03\n",
      "   1.01792432e-02   1.05111750e-02   1.07324629e-02   1.10643948e-02\n",
      "   1.31666298e-02   1.37198495e-02   1.47156451e-02   1.57114406e-02\n",
      "   1.63753043e-02   1.73710998e-02   1.81456074e-02   1.84775393e-02\n",
      "   1.86988272e-02   1.90307590e-02   1.95839788e-02   2.01371985e-02\n",
      "   2.06904182e-02   2.13542819e-02   2.19075017e-02   2.52268201e-02\n",
      "   2.64439035e-02   2.78822748e-02   2.98738659e-02   3.02057977e-02\n",
      "   3.17548130e-02   3.38570480e-02   3.49634875e-02   3.65125028e-02\n",
      "   3.78402301e-02   3.96105333e-02   4.17127683e-02   4.34830715e-02\n",
      "   4.52533746e-02   4.56959504e-02   4.70236778e-02   5.38836026e-02\n",
      "   5.56539057e-02   6.04115955e-02   6.40628458e-02   6.83779597e-02\n",
      "   7.15866342e-02   8.04381500e-02   8.37574685e-02   8.87364461e-02\n",
      "   9.31622040e-02   9.69240983e-02   1.03341447e-01   1.07545917e-01\n",
      "   1.13078115e-01   1.18278380e-01   1.23589290e-01   1.44611640e-01\n",
      "   1.53131224e-01   1.66297854e-01   1.80792211e-01   1.93848197e-01\n",
      "   2.10666077e-01   2.24053994e-01   2.42642177e-01   2.63443240e-01\n",
      "   2.79707900e-01   2.93317106e-01   3.08696614e-01   3.25957070e-01\n",
      "   3.42774950e-01   3.57601239e-01   3.68554990e-01   4.01858818e-01\n",
      "   4.16685107e-01   4.40362912e-01   4.57070148e-01   4.77539279e-01\n",
      "   4.96791326e-01   5.28324851e-01   5.44146935e-01   5.77561407e-01\n",
      "   5.92830272e-01   6.08320425e-01   6.32662093e-01   6.56007966e-01\n",
      "   6.71387475e-01   6.90418234e-01   7.03916796e-01   7.33237442e-01\n",
      "   7.45518920e-01   7.60566497e-01   7.73622483e-01   7.86899757e-01\n",
      "   7.98959947e-01   8.14228812e-01   8.26289002e-01   8.40672715e-01\n",
      "   8.54392565e-01   8.66342111e-01   8.73976543e-01   8.84266431e-01\n",
      "   8.94777606e-01   9.04514273e-01   9.12038062e-01   9.24872759e-01\n",
      "   9.29077229e-01   9.33834919e-01   9.40141624e-01   9.44124806e-01\n",
      "   9.47886701e-01   9.52312459e-01   9.54967913e-01   9.60500111e-01\n",
      "   9.63930073e-01   9.68245187e-01   9.71896437e-01   9.74551892e-01\n",
      "   9.76875415e-01   9.78645718e-01   9.80637309e-01   9.84067272e-01\n",
      "   9.84952423e-01   9.86944014e-01   9.88271742e-01   9.89267537e-01\n",
      "   9.90263333e-01   9.90705908e-01   9.90927196e-01   9.92254924e-01\n",
      "   9.92586855e-01   9.93029431e-01   9.93914583e-01   9.94246515e-01\n",
      "   9.94799734e-01   9.95131666e-01   9.95242310e-01   9.96238106e-01\n",
      "   9.96348750e-01   9.96570038e-01   9.96901969e-01   9.97012613e-01\n",
      "   9.97233901e-01   9.97344545e-01   9.97565833e-01   9.97676477e-01\n",
      "   9.97787121e-01   9.98008409e-01   9.98119053e-01   9.98672273e-01\n",
      "   9.98893561e-01   9.99114848e-01   9.99225492e-01   9.99336136e-01\n",
      "   9.99446780e-01   9.99557424e-01   9.99889356e-01   1.00000000e+00])\n"
     ]
    }
   ],
   "source": [
    "live = preg[preg.outcome ==1]\n",
    "totalwgt_cdf = thinkstats2.Cdf(live.totalwgt_lb)\n",
    "print \"CDF of totalwgt_lb\", totalwgt_cdf"
   ]
  },
  {
   "cell_type": "markdown",
   "metadata": {},
   "source": [
    "Display the CDF."
   ]
  },
  {
   "cell_type": "code",
   "execution_count": 6,
   "metadata": {
    "collapsed": false
   },
   "outputs": [
    {
     "name": "stderr",
     "output_type": "stream",
     "text": [
      "/home/casey/anaconda/lib/python2.7/site-packages/matplotlib/axes/_axes.py:519: UserWarning: No labelled objects found. Use label='...' kwarg on individual plots.\n",
      "  warnings.warn(\"No labelled objects found. \"\n"
     ]
    },
    {
     "data": {
      "image/png": "[encoded data removed]",
      "text/plain": [
       "<matplotlib.figure.Figure at 0x7fcea2918b90>"
      ]
     },
     "metadata": {},
     "output_type": "display_data"
    },
    {
     "data": {
      "text/plain": [
       "<matplotlib.figure.Figure at 0x7fcea27aaa50>"
      ]
     },
     "metadata": {},
     "output_type": "display_data"
    }
   ],
   "source": [
    "thinkplot.Cdf(totalwgt_cdf)\n",
    "thinkplot.Show(xlabel = 'total weight', ylabel = 'cdf')"
   ]
  },
  {
   "cell_type": "markdown",
   "metadata": {},
   "source": [
    "This is really a compelling way to visualize data. I think I prefer this over pmfs. In the graph above, we can see the clear ends to the bell curve and easily identify the steep slope that would be part of the majority of the bellcurve. "
   ]
  },
  {
   "cell_type": "markdown",
   "metadata": {},
   "source": [
    "Find out how much you weighed at birth, if you can, and compute CDF(x). "
   ]
  },
  {
   "cell_type": "code",
   "execution_count": 7,
   "metadata": {
    "collapsed": false
   },
   "outputs": [
    {
     "name": "stdout",
     "output_type": "stream",
     "text": [
      "My CDF:  0.577561407391\n"
     ]
    }
   ],
   "source": [
    "my_weight = 7.5\n",
    "p_mine = totalwgt_cdf.Prob(my_weight)\n",
    "print \"My CDF: \", p_mine"
   ]
  },
  {
   "cell_type": "markdown",
   "metadata": {},
   "source": [
    "According to my mom, I weighed around 7.5 pounds and therefore, I would be in the 57th percentile, weighed more or equal to 67 percent of the children born in 2002 with this data."
   ]
  },
  {
   "cell_type": "markdown",
   "metadata": {},
   "source": [
    "If you are a first child, look up your birthweight in the CDF of first children; otherwise use the CDF of other children."
   ]
  },
  {
   "cell_type": "code",
   "execution_count": 8,
   "metadata": {
    "collapsed": false
   },
   "outputs": [],
   "source": [
    "firsts = live[live.birthord == 1]\n",
    "firsts_cdf = thinkstats2.Cdf(firsts.totalwgt_lb)"
   ]
  },
  {
   "cell_type": "code",
   "execution_count": 9,
   "metadata": {
    "collapsed": false
   },
   "outputs": [
    {
     "data": {
      "image/png": "[encoded data removed]",
      "text/plain": [
       "<matplotlib.figure.Figure at 0x7fcea2893550>"
      ]
     },
     "metadata": {},
     "output_type": "display_data"
    },
    {
     "data": {
      "text/plain": [
       "<matplotlib.figure.Figure at 0x7fcea24b6890>"
      ]
     },
     "metadata": {},
     "output_type": "display_data"
    }
   ],
   "source": [
    "thinkplot.Cdf(firsts_cdf)\n",
    "thinkplot.Show(xlabel = 'total weight of firsts', ylabel = 'cdf')"
   ]
  },
  {
   "cell_type": "code",
   "execution_count": 10,
   "metadata": {
    "collapsed": false
   },
   "outputs": [
    {
     "name": "stdout",
     "output_type": "stream",
     "text": [
      "My CDF in data in data of first children:  0.597753839102\n"
     ]
    }
   ],
   "source": [
    "p_mine_firsts = firsts_cdf.Prob(my_weight)\n",
    "print \"My CDF in data in data of first children: \", p_mine_firsts"
   ]
  },
  {
   "cell_type": "markdown",
   "metadata": {},
   "source": [
    "I am a first child, so I used the CDF of first children. In comparison to the CDF of all children alive, I am now in the 60th percentile. INtersentingly enough I weigh more or equal to than 60 percent of the children in this range. "
   ]
  },
  {
   "cell_type": "markdown",
   "metadata": {},
   "source": [
    "Compute the percentile rank of your birthweight"
   ]
  },
  {
   "cell_type": "code",
   "execution_count": 48,
   "metadata": {
    "collapsed": false
   },
   "outputs": [
    {
     "name": "stdout",
     "output_type": "stream",
     "text": [
      "My percentile rank in the first children data set 59.7753839102\n"
     ]
    }
   ],
   "source": [
    "print \"My percentile rank in the first children data set\", firsts_cdf.PercentileRank(my_weight)"
   ]
  },
  {
   "cell_type": "markdown",
   "metadata": {},
   "source": [
    "Compute the median birth weight by looking up the value associated with p=0.5."
   ]
  },
  {
   "cell_type": "code",
   "execution_count": 12,
   "metadata": {
    "collapsed": false
   },
   "outputs": [
    {
     "name": "stdout",
     "output_type": "stream",
     "text": [
      "Average median birth weight:  7.3125\n"
     ]
    }
   ],
   "source": [
    "percentile = firsts_cdf.Percentile(50)\n",
    "print \"Average median birth weight: \" , percentile"
   ]
  },
  {
   "cell_type": "markdown",
   "metadata": {},
   "source": [
    "It turns out I was just above the median birth weight. "
   ]
  },
  {
   "cell_type": "markdown",
   "metadata": {},
   "source": [
    "Compute the interquartile range (IQR) by computing percentiles corresponding to 25 and 75. "
   ]
  },
  {
   "cell_type": "code",
   "execution_count": 13,
   "metadata": {
    "collapsed": false
   },
   "outputs": [
    {
     "name": "stdout",
     "output_type": "stream",
     "text": [
      "interquartile range or measure spread of distribution:  1.5625\n"
     ]
    }
   ],
   "source": [
    "IQR = firsts_cdf.Percentile(75) - firsts_cdf.Percentile(25)\n",
    "print \"interquartile range or measure spread of distribution: \", IQR"
   ]
  },
  {
   "cell_type": "markdown",
   "metadata": {},
   "source": [
    "Make a random selection from <tt>cdf</tt>."
   ]
  },
  {
   "cell_type": "code",
   "execution_count": 39,
   "metadata": {
    "collapsed": false
   },
   "outputs": [
    {
     "name": "stdout",
     "output_type": "stream",
     "text": [
      "170\n",
      "This is the random selection:  0.0272748109099\n"
     ]
    }
   ],
   "source": [
    "random_selection = firsts_cdf[numpy.random.randint(0, 5)]\n",
    "print \"This is the random selection: \", random_selection"
   ]
  },
  {
   "cell_type": "markdown",
   "metadata": {},
   "source": [
    "I'm not sure what the purpose of the random selection was?"
   ]
  },
  {
   "cell_type": "markdown",
   "metadata": {},
   "source": [
    "Draw a random sample from <tt>cdf</tt>."
   ]
  },
  {
   "cell_type": "code",
   "execution_count": 41,
   "metadata": {
    "collapsed": false
   },
   "outputs": [],
   "source": [
    "random_sample= numpy.random.choice(firsts.totalwgt_lb, 100, replace = True)"
   ]
  },
  {
   "cell_type": "markdown",
   "metadata": {},
   "source": [
    "Draw a random sample from <tt>cdf</tt>, then compute the percentile rank for each value, and plot the distribution of the percentile ranks."
   ]
  },
  {
   "cell_type": "code",
   "execution_count": 50,
   "metadata": {
    "collapsed": false
   },
   "outputs": [
    {
     "data": {
      "image/png": "[encoded data removed]",
      "text/plain": [
       "<matplotlib.figure.Figure at 0x7fcea2918850>"
      ]
     },
     "metadata": {},
     "output_type": "display_data"
    },
    {
     "data": {
      "text/plain": [
       "<matplotlib.figure.Figure at 0x7fcea249c7d0>"
      ]
     },
     "metadata": {},
     "output_type": "display_data"
    }
   ],
   "source": [
    "ranks = [firsts_cdf.PercentileRank(element) for element in random_sample]\n",
    "ranks_cdf = thinkstats2.Cdf(ranks)\n",
    "thinkplot.Cdf(ranks_cdf)\n",
    "thinkplot.Show(xlabel = 'percentile rank' ,ylabel = 'cdf')"
   ]
  },
  {
   "cell_type": "markdown",
   "metadata": {},
   "source": [
    "This makes sense why it is linear and almost a straight line because they are almost basically the same concept of finding the percentile rank or the count of greater than or equal to in the data set."
   ]
  },
  {
   "cell_type": "markdown",
   "metadata": {},
   "source": [
    "Generate 1000 random values using <tt>random.random()</tt> and plot their PMF."
   ]
  },
  {
   "cell_type": "code",
   "execution_count": 43,
   "metadata": {
    "collapsed": false
   },
   "outputs": [],
   "source": [
    "random = numpy.random.random(size = 1000)"
   ]
  },
  {
   "cell_type": "code",
   "execution_count": 44,
   "metadata": {
    "collapsed": false
   },
   "outputs": [
    {
     "data": {
      "image/png": "[encoded data removed]",
      "text/plain": [
       "<matplotlib.figure.Figure at 0x7fcea15b1dd0>"
      ]
     },
     "metadata": {},
     "output_type": "display_data"
    }
   ],
   "source": [
    "pmf = thinkstats2.Pmf(random)\n",
    "thinkplot.Pmf(pmf)"
   ]
  },
  {
   "cell_type": "markdown",
   "metadata": {},
   "source": [
    "This is all blue. It looks like a blob. "
   ]
  },
  {
   "cell_type": "markdown",
   "metadata": {},
   "source": [
    "Assuming that the PMF doesn't work very well, try plotting the CDF instead."
   ]
  },
  {
   "cell_type": "code",
   "execution_count": 45,
   "metadata": {
    "collapsed": false
   },
   "outputs": [
    {
     "data": {
      "text/plain": [
       "{'xscale': 'linear', 'yscale': 'linear'}"
      ]
     },
     "execution_count": 45,
     "metadata": {},
     "output_type": "execute_result"
    },
    {
     "data": {
      "image/png": "[encoded data removed]",
      "text/plain": [
       "<matplotlib.figure.Figure at 0x7fcea15cc190>"
      ]
     },
     "metadata": {},
     "output_type": "display_data"
    }
   ],
   "source": [
    "cdf = thinkstats2.Cdf(random)\n",
    "thinkplot.Cdf(cdf)"
   ]
  },
  {
   "cell_type": "markdown",
   "metadata": {},
   "source": [
    "Woah! How?? The Pmf of this data is now linear. I guess my random.random() values are many very small floats. I guess pmfs do not do well with many small floats. Like 4.1 mentioned, pmfs get worse with too many values because the more values, the less percentage of the whole each one becomes and therefore, the more rounding and smaller the numbers become and this increases the possibility of noise. It's so cool that Pmfs can make something out of these many values so clearly"
   ]
  },
  {
   "cell_type": "markdown",
   "metadata": {
    "collapsed": false
   },
   "source": [
    "### Clarifying Questions\n",
    "\n",
    "Use this space to ask questions regarding the content covered in the reading. These questions should be restricted to helping you better understand the material. For questions that push beyond what is in the reading, use the next answer field. If you don't have a fully formed question, but are generally having a difficult time with a topic, you can indicate that here as well."
   ]
  },
  {
   "cell_type": "markdown",
   "metadata": {},
   "source": []
  },
  {
   "cell_type": "markdown",
   "metadata": {},
   "source": [
    "### Enrichment Questions\n",
    "\n",
    "Use this space to ask any questions that go beyond (but are related to) the material presented in this reading. Perhaps there is a particular topic you'd like to see covered in more depth. Perhaps you'd like to know how to use a library in a way that wasn't show in the reading. One way to think about this is what additional topics would you want covered in the next class (or addressed in a followup e-mail to the class). I'm a little fuzzy on what stuff will likely go here, so we'll see how things evolve."
   ]
  },
  {
   "cell_type": "markdown",
   "metadata": {},
   "source": []
  },
  {
   "cell_type": "markdown",
   "metadata": {},
   "source": [
    "### Additional Resources / Explorations\n",
    "\n",
    "If you found any useful resources, or tried some useful exercises that you'd like to report please do so here. Let us know what you did, what you learned, and how others can replicate it."
   ]
  },
  {
   "cell_type": "markdown",
   "metadata": {},
   "source": []
  }
 ],
 "metadata": {
  "kernelspec": {
   "display_name": "Python 2",
   "language": "python",
   "name": "python2"
  },
  "language_info": {
   "codemirror_mode": {
    "name": "ipython",
    "version": 2
   },
   "file_extension": ".py",
   "mimetype": "text/x-python",
   "name": "python",
   "nbconvert_exporter": "python",
   "pygments_lexer": "ipython2",
   "version": "2.7.11"
  }
 },
 "nbformat": 4,
 "nbformat_minor": 0
}
